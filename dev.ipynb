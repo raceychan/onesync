{
 "cells": [
  {
   "cell_type": "code",
   "execution_count": 1,
   "id": "8d2e671d-ec26-4dfd-9d6d-18686b49990d",
   "metadata": {},
   "outputs": [],
   "source": [
    "def main():\n",
    "    print(1)"
   ]
  },
  {
   "cell_type": "code",
   "execution_count": 2,
   "id": "4b7a35a1-ea58-4437-8f95-085ffc308e98",
   "metadata": {},
   "outputs": [
    {
     "name": "stdout",
     "output_type": "stream",
     "text": [
      "1\n"
     ]
    }
   ],
   "source": [
    "main()"
   ]
  },
  {
   "cell_type": "code",
   "execution_count": 1,
   "id": "6cb1a168-33ef-407c-889a-8990f606fd1f",
   "metadata": {},
   "outputs": [],
   "source": [
    "from base import cmd"
   ]
  },
  {
   "cell_type": "code",
   "execution_count": 2,
   "id": "d75b17dd-72e1-4b09-a7d8-28fdb5f4f12d",
   "metadata": {},
   "outputs": [
    {
     "name": "stdout",
     "output_type": "stream",
     "text": [
      "22.04\n",
      "\n"
     ]
    }
   ],
   "source": [
    "res = cmd(\"lsb_release -a 2>/dev/null | grep 'Release:' | awk '{print $2}'\")"
   ]
  },
  {
   "cell_type": "code",
   "execution_count": 5,
   "id": "576c3cce-651c-44c6-afd3-7cafcec47b7b",
   "metadata": {},
   "outputs": [
    {
     "data": {
      "text/plain": [
       "'22.04'"
      ]
     },
     "execution_count": 5,
     "metadata": {},
     "output_type": "execute_result"
    }
   ],
   "source": [
    "res.stdout.strip()"
   ]
  },
  {
   "cell_type": "code",
   "execution_count": null,
   "id": "937580b6-c8a2-4e61-8b6b-dd171a847299",
   "metadata": {},
   "outputs": [],
   "source": []
  }
 ],
 "metadata": {
  "kernelspec": {
   "display_name": "Python [conda env:myproject] *",
   "language": "python",
   "name": "conda-env-myproject-py"
  },
  "language_info": {
   "codemirror_mode": {
    "name": "ipython",
    "version": 3
   },
   "file_extension": ".py",
   "mimetype": "text/x-python",
   "name": "python",
   "nbconvert_exporter": "python",
   "pygments_lexer": "ipython3",
   "version": "3.11.2"
  }
 },
 "nbformat": 4,
 "nbformat_minor": 5
}
