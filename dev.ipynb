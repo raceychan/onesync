{
 "cells": [
  {
   "cell_type": "code",
   "execution_count": 1,
   "id": "c05af3b3-f1b3-452c-a7b0-0a0c2d78944c",
   "metadata": {},
   "outputs": [],
   "source": [
    "from base import load_toml"
   ]
  },
  {
   "cell_type": "code",
   "execution_count": 39,
   "id": "80577735-f72b-4b31-b8fd-51a2e0d145e2",
   "metadata": {},
   "outputs": [],
   "source": [
    "from typing import Annotated\n",
    "from typer import Option\n",
    "\n",
    "\n",
    "def test(lastname: Annotated[str | int, Option('', help=\"Last name of person to greet.\")]):\n",
    "    ...\n"
   ]
  },
  {
   "cell_type": "code",
   "execution_count": 40,
   "id": "609d1de9-7240-442f-95a3-90bbf5d9ddd9",
   "metadata": {},
   "outputs": [],
   "source": [
    "annt = test.__annotations__[\"lastname\"]"
   ]
  },
  {
   "cell_type": "code",
   "execution_count": 41,
   "id": "3117a88a-0a04-47d8-886d-69b7f53155b0",
   "metadata": {},
   "outputs": [
    {
     "data": {
      "text/plain": [
       "typing.Annotated[str | int, <typer.models.OptionInfo object at 0x7fe24614a750>]"
      ]
     },
     "execution_count": 41,
     "metadata": {},
     "output_type": "execute_result"
    }
   ],
   "source": [
    "annt"
   ]
  },
  {
   "cell_type": "code",
   "execution_count": 42,
   "id": "7f189da2-c16d-4cb7-8078-2c9bbb7effae",
   "metadata": {},
   "outputs": [
    {
     "data": {
      "text/plain": [
       "{'_inst': True,\n",
       " '_name': None,\n",
       " '__origin__': str | int,\n",
       " '__slots__': None,\n",
       " '__args__': (str | int,),\n",
       " '__parameters__': (),\n",
       " '_paramspec_tvars': False,\n",
       " '__module__': 'types',\n",
       " '__metadata__': (<typer.models.OptionInfo at 0x7fe24614a750>,)}"
      ]
     },
     "execution_count": 42,
     "metadata": {},
     "output_type": "execute_result"
    }
   ],
   "source": [
    "annt.__dict__"
   ]
  },
  {
   "cell_type": "code",
   "execution_count": 45,
   "id": "35b079e3-c372-4a54-ab35-dc268d1dc227",
   "metadata": {},
   "outputs": [
    {
     "data": {
      "text/plain": [
       "str | int"
      ]
     },
     "execution_count": 45,
     "metadata": {},
     "output_type": "execute_result"
    }
   ],
   "source": [
    "annt.__origin__"
   ]
  },
  {
   "cell_type": "code",
   "execution_count": 49,
   "id": "25d48a40-7a91-4867-b9a3-4fa781ad6f1c",
   "metadata": {},
   "outputs": [
    {
     "data": {
      "text/plain": [
       "False"
      ]
     },
     "execution_count": 49,
     "metadata": {},
     "output_type": "execute_result"
    }
   ],
   "source": [
    "annt is Annotated"
   ]
  },
  {
   "cell_type": "code",
   "execution_count": 56,
   "id": "ea5395ce-e22b-4dc7-81b3-7d4fc328934d",
   "metadata": {},
   "outputs": [],
   "source": [
    "from typing import Any, Union, Any, Tuple, Type, get_origin\n",
    "\n",
    "AnyType = Type[Any]\n",
    "\n",
    "def lenient_issubclass(\n",
    "    cls: Any, class_or_tuple: Union[AnyType, Tuple[AnyType, ...]]\n",
    ") -> bool:\n",
    "    return isinstance(cls, type) and issubclass(cls, class_or_tuple)"
   ]
  },
  {
   "cell_type": "code",
   "execution_count": 55,
   "id": "e8926f68-6efe-4947-932a-7e5b9c9dae4c",
   "metadata": {},
   "outputs": [
    {
     "data": {
      "text/plain": [
       "False"
      ]
     },
     "execution_count": 55,
     "metadata": {},
     "output_type": "execute_result"
    }
   ],
   "source": [
    "lenient_issubclass(annt, Annotated)"
   ]
  },
  {
   "cell_type": "code",
   "execution_count": 58,
   "id": "784d413d-7368-4f0c-a600-10f217186f1f",
   "metadata": {},
   "outputs": [
    {
     "data": {
      "text/plain": [
       "True"
      ]
     },
     "execution_count": 58,
     "metadata": {},
     "output_type": "execute_result"
    }
   ],
   "source": [
    "get_origin(annt) == Annotated"
   ]
  },
  {
   "cell_type": "code",
   "execution_count": null,
   "id": "f9c3c4ac-dbf5-4ec2-9d10-1b1b61307ddd",
   "metadata": {},
   "outputs": [],
   "source": [
    "    elif typing.get_origin(annotation) == typing.Annotated:\n",
    "        return get_click_type(annotation=annotation.__origin__, parameter_info=parameter_info)"
   ]
  },
  {
   "cell_type": "code",
   "execution_count": 1,
   "id": "bfabbe4d-959b-4cb3-98ec-f85b1b915800",
   "metadata": {},
   "outputs": [],
   "source": [
    "gen = (i for i in range(10))"
   ]
  },
  {
   "cell_type": "code",
   "execution_count": 2,
   "id": "e5d27af4-fc08-49ff-81c3-ccee35596a84",
   "metadata": {},
   "outputs": [
    {
     "data": {
      "text/plain": [
       "0"
      ]
     },
     "execution_count": 2,
     "metadata": {},
     "output_type": "execute_result"
    }
   ],
   "source": [
    "gen.send(None)"
   ]
  },
  {
   "cell_type": "code",
   "execution_count": 67,
   "id": "93a927ca-7720-4c41-a394-a6376eabc865",
   "metadata": {},
   "outputs": [],
   "source": [
    "import time\n",
    "def f():\n",
    "    while True:\n",
    "        x = yield\n",
    "        yield x*I"
   ]
  },
  {
   "cell_type": "code",
   "execution_count": 86,
   "id": "1567ee37-0dd1-4292-84f5-4b770c5c407e",
   "metadata": {},
   "outputs": [],
   "source": [
    "k = f()"
   ]
  },
  {
   "cell_type": "code",
   "execution_count": 89,
   "id": "9f920a65-cc08-4e06-9e84-2f63abad6b73",
   "metadata": {},
   "outputs": [
    {
     "data": {
      "text/plain": [
       "10"
      ]
     },
     "execution_count": 89,
     "metadata": {},
     "output_type": "execute_result"
    }
   ],
   "source": [
    "k.__next__()\n",
    "k.send(1)"
   ]
  },
  {
   "cell_type": "code",
   "execution_count": 90,
   "id": "076b0f24-5a19-4829-9143-198d9dceb34e",
   "metadata": {},
   "outputs": [],
   "source": [
    "async def test(a, b):\n",
    "    print(1, 2)"
   ]
  },
  {
   "cell_type": "code",
   "execution_count": 96,
   "id": "501a3292-818c-446f-a0a4-2a07b930a2b3",
   "metadata": {},
   "outputs": [],
   "source": [
    "\n",
    "b = test(1,2)"
   ]
  },
  {
   "cell_type": "code",
   "execution_count": 97,
   "id": "1fa6a91d-b138-4304-b1d8-6ad86ea3449d",
   "metadata": {},
   "outputs": [
    {
     "name": "stdout",
     "output_type": "stream",
     "text": [
      "1 2\n"
     ]
    }
   ],
   "source": [
    "await b"
   ]
  },
  {
   "cell_type": "code",
   "execution_count": 99,
   "id": "6057bfbc-73e4-4955-8495-5eb81f424b9f",
   "metadata": {},
   "outputs": [],
   "source": [
    "import asyncio"
   ]
  },
  {
   "cell_type": "code",
   "execution_count": 101,
   "id": "4c54f477-b6c6-46ba-8737-7a0525c15205",
   "metadata": {},
   "outputs": [
    {
     "data": {
      "text/plain": [
       "<Task pending name='Task-7' coro=<test() running at /tmp/ipykernel_1872/3443865552.py:1>>"
      ]
     },
     "execution_count": 101,
     "metadata": {},
     "output_type": "execute_result"
    },
    {
     "name": "stdout",
     "output_type": "stream",
     "text": [
      "1 2\n"
     ]
    }
   ],
   "source": [
    "asyncio.create_task(test(1,2))"
   ]
  }
 ],
 "metadata": {
  "kernelspec": {
   "display_name": "Python 3 (ipykernel)",
   "language": "python",
   "name": "python3"
  },
  "language_info": {
   "codemirror_mode": {
    "name": "ipython",
    "version": 3
   },
   "file_extension": ".py",
   "mimetype": "text/x-python",
   "name": "python",
   "nbconvert_exporter": "python",
   "pygments_lexer": "ipython3",
   "version": "3.11.0"
  }
 },
 "nbformat": 4,
 "nbformat_minor": 5
}
