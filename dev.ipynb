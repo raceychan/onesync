{
 "cells": [
  {
   "cell_type": "code",
   "execution_count": 2,
   "id": "2e38ee22",
   "metadata": {},
   "outputs": [],
   "source": [
    "import tomli"
   ]
  },
  {
   "cell_type": "code",
   "execution_count": 1,
   "id": "70cde1a7",
   "metadata": {},
   "outputs": [],
   "source": [
    "from pathlib import Path"
   ]
  },
  {
   "cell_type": "code",
   "execution_count": 9,
   "id": "6d2c0cd3-f97a-4e01-b92c-c8b1614ee5f5",
   "metadata": {},
   "outputs": [
    {
     "name": "stdout",
     "output_type": "stream",
     "text": [
      "/home/raceychan/myproject/linux_autobuild/build.py\n",
      "/home/raceychan/myproject/linux_autobuild/utils.py\n",
      "/home/raceychan/myproject/linux_autobuild/base.py\n",
      "/home/raceychan/myproject/linux_autobuild/wc.py\n",
      "/home/raceychan/myproject/linux_autobuild/packages/node.py\n",
      "/home/raceychan/myproject/linux_autobuild/packages/neovim.py\n",
      "/home/raceychan/myproject/linux_autobuild/packages/tmux.py\n",
      "/home/raceychan/myproject/linux_autobuild/packages/onedrive.py\n",
      "/home/raceychan/myproject/linux_autobuild/packages/zsh/zsh.py\n",
      "/home/raceychan/myproject/linux_autobuild/packages/.ipynb_checkpoints/jupyter-checkpoint.py\n",
      "/home/raceychan/myproject/linux_autobuild/packages/.ipynb_checkpoints/node-checkpoint.py\n",
      "/home/raceychan/myproject/linux_autobuild/packages/python/jupyter.py\n",
      "/home/raceychan/myproject/linux_autobuild/packages/python/poetry.py\n",
      "/home/raceychan/myproject/linux_autobuild/packages/conda/conda.py\n",
      "/home/raceychan/myproject/linux_autobuild/.ipynb_checkpoints/utils-checkpoint.py\n"
     ]
    }
   ],
   "source": [
    "for f in Path.cwd().rglob('*.py'):\n",
    "    print(f)"
   ]
  },
  {
   "cell_type": "code",
   "execution_count": 1,
   "id": "2289617b-5771-4310-9ab6-53b57f5a4ac2",
   "metadata": {},
   "outputs": [],
   "source": [
    "from base import ProjectRoot"
   ]
  },
  {
   "cell_type": "code",
   "execution_count": 7,
   "id": "c9cd2cb1-db49-4769-b2ce-36d79e4a3fcb",
   "metadata": {},
   "outputs": [],
   "source": [
    "subs = [i for i in ProjectRoot.rglob(\"*.py\")]"
   ]
  },
  {
   "cell_type": "code",
   "execution_count": 13,
   "id": "b2741b3f-64b3-4e31-8183-82569905b228",
   "metadata": {},
   "outputs": [
    {
     "data": {
      "text/plain": [
       "'build.py'"
      ]
     },
     "execution_count": 13,
     "metadata": {},
     "output_type": "execute_result"
    }
   ],
   "source": [
    "subs[0].name"
   ]
  },
  {
   "cell_type": "code",
   "execution_count": 1,
   "id": "e439fbd4-1f7f-4f25-a9ee-9ebe6b82f0d8",
   "metadata": {},
   "outputs": [],
   "source": [
    "from base import ProjectRoot, Path\n",
    "import utils\n",
    "from importlib import import_module"
   ]
  },
  {
   "cell_type": "code",
   "execution_count": 2,
   "id": "4dcd43cc-2b48-4993-b555-4bb77efb716a",
   "metadata": {},
   "outputs": [
    {
     "data": {
      "text/plain": [
       "PosixPath('packages.py')"
      ]
     },
     "execution_count": 2,
     "metadata": {},
     "output_type": "execute_result"
    }
   ],
   "source": [
    "Path('packages.py')"
   ]
  },
  {
   "cell_type": "code",
   "execution_count": 4,
   "id": "e8c1dd04-07de-483e-9a43-0032e046531f",
   "metadata": {},
   "outputs": [],
   "source": [
    "pkg_path = (Path.cwd() / 'packages')"
   ]
  }
 ],
 "metadata": {
  "kernelspec": {
   "display_name": "Python 3 (ipykernel)",
   "language": "python",
   "name": "python3"
  },
  "language_info": {
   "codemirror_mode": {
    "name": "ipython",
    "version": 3
   },
   "file_extension": ".py",
   "mimetype": "text/x-python",
   "name": "python",
   "nbconvert_exporter": "python",
   "pygments_lexer": "ipython3",
   "version": "3.11.0"
  }
 },
 "nbformat": 4,
 "nbformat_minor": 5
}
