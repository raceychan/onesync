def main():
    print(1)


main()


from base import cmd


res = cmd("lsb_release -a 2>/dev/null | grep 'Release:' | awk '{print $2}'")


res.stdout.strip()



