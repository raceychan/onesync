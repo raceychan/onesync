{
 "cells": [
  {
   "cell_type": "code",
   "execution_count": 1,
   "id": "c05af3b3-f1b3-452c-a7b0-0a0c2d78944c",
   "metadata": {},
   "outputs": [],
   "source": [
    "from base import load_toml"
   ]
  },
  {
   "cell_type": "code",
   "execution_count": 39,
   "id": "80577735-f72b-4b31-b8fd-51a2e0d145e2",
   "metadata": {},
   "outputs": [],
   "source": [
    "from typing import Annotated\n",
    "from typer import Option\n",
    "\n",
    "\n",
    "def test(lastname: Annotated[str | int, Option('', help=\"Last name of person to greet.\")]):\n",
    "    ...\n"
   ]
  },
  {
   "cell_type": "code",
   "execution_count": 40,
   "id": "609d1de9-7240-442f-95a3-90bbf5d9ddd9",
   "metadata": {},
   "outputs": [],
   "source": [
    "annt = test.__annotations__[\"lastname\"]"
   ]
  },
  {
   "cell_type": "code",
   "execution_count": 41,
   "id": "3117a88a-0a04-47d8-886d-69b7f53155b0",
   "metadata": {},
   "outputs": [
    {
     "data": {
      "text/plain": [
       "typing.Annotated[str | int, <typer.models.OptionInfo object at 0x7fe24614a750>]"
      ]
     },
     "execution_count": 41,
     "metadata": {},
     "output_type": "execute_result"
    }
   ],
   "source": [
    "annt"
   ]
  },
  {
   "cell_type": "code",
   "execution_count": 42,
   "id": "7f189da2-c16d-4cb7-8078-2c9bbb7effae",
   "metadata": {},
   "outputs": [
    {
     "data": {
      "text/plain": [
       "{'_inst': True,\n",
       " '_name': None,\n",
       " '__origin__': str | int,\n",
       " '__slots__': None,\n",
       " '__args__': (str | int,),\n",
       " '__parameters__': (),\n",
       " '_paramspec_tvars': False,\n",
       " '__module__': 'types',\n",
       " '__metadata__': (<typer.models.OptionInfo at 0x7fe24614a750>,)}"
      ]
     },
     "execution_count": 42,
     "metadata": {},
     "output_type": "execute_result"
    }
   ],
   "source": [
    "annt.__dict__"
   ]
  },
  {
   "cell_type": "code",
   "execution_count": 45,
   "id": "35b079e3-c372-4a54-ab35-dc268d1dc227",
   "metadata": {},
   "outputs": [
    {
     "data": {
      "text/plain": [
       "str | int"
      ]
     },
     "execution_count": 45,
     "metadata": {},
     "output_type": "execute_result"
    }
   ],
   "source": [
    "annt.__origin__"
   ]
  },
  {
   "cell_type": "code",
   "execution_count": 49,
   "id": "25d48a40-7a91-4867-b9a3-4fa781ad6f1c",
   "metadata": {},
   "outputs": [
    {
     "data": {
      "text/plain": [
       "False"
      ]
     },
     "execution_count": 49,
     "metadata": {},
     "output_type": "execute_result"
    }
   ],
   "source": [
    "annt is Annotated"
   ]
  },
  {
   "cell_type": "code",
   "execution_count": 56,
   "id": "ea5395ce-e22b-4dc7-81b3-7d4fc328934d",
   "metadata": {},
   "outputs": [],
   "source": [
    "from typing import Any, Union, Any, Tuple, Type, get_origin\n",
    "\n",
    "AnyType = Type[Any]\n",
    "\n",
    "def lenient_issubclass(\n",
    "    cls: Any, class_or_tuple: Union[AnyType, Tuple[AnyType, ...]]\n",
    ") -> bool:\n",
    "    return isinstance(cls, type) and issubclass(cls, class_or_tuple)"
   ]
  },
  {
   "cell_type": "code",
   "execution_count": 55,
   "id": "e8926f68-6efe-4947-932a-7e5b9c9dae4c",
   "metadata": {},
   "outputs": [
    {
     "data": {
      "text/plain": [
       "False"
      ]
     },
     "execution_count": 55,
     "metadata": {},
     "output_type": "execute_result"
    }
   ],
   "source": [
    "lenient_issubclass(annt, Annotated)"
   ]
  },
  {
   "cell_type": "code",
   "execution_count": 58,
   "id": "784d413d-7368-4f0c-a600-10f217186f1f",
   "metadata": {},
   "outputs": [
    {
     "data": {
      "text/plain": [
       "True"
      ]
     },
     "execution_count": 58,
     "metadata": {},
     "output_type": "execute_result"
    }
   ],
   "source": [
    "get_origin(annt) == Annotated"
   ]
  },
  {
   "cell_type": "code",
   "execution_count": null,
   "id": "f9c3c4ac-dbf5-4ec2-9d10-1b1b61307ddd",
   "metadata": {},
   "outputs": [],
   "source": [
    "    elif typing.get_origin(annotation) == typing.Annotated:\n",
    "        return get_click_type(annotation=annotation.__origin__, parameter_info=parameter_info)"
   ]
  },
  {
   "cell_type": "code",
   "execution_count": 1,
   "id": "bfabbe4d-959b-4cb3-98ec-f85b1b915800",
   "metadata": {},
   "outputs": [],
   "source": [
    "gen = (i for i in range(10))"
   ]
  },
  {
   "cell_type": "code",
   "execution_count": 2,
   "id": "e5d27af4-fc08-49ff-81c3-ccee35596a84",
   "metadata": {},
   "outputs": [
    {
     "data": {
      "text/plain": [
       "0"
      ]
     },
     "execution_count": 2,
     "metadata": {},
     "output_type": "execute_result"
    }
   ],
   "source": [
    "gen.send(None)"
   ]
  },
  {
   "cell_type": "code",
   "execution_count": 67,
   "id": "93a927ca-7720-4c41-a394-a6376eabc865",
   "metadata": {},
   "outputs": [],
   "source": [
    "import time\n",
    "def f():\n",
    "    while True:\n",
    "        x = yield\n",
    "        yield x*I"
   ]
  },
  {
   "cell_type": "code",
   "execution_count": 86,
   "id": "1567ee37-0dd1-4292-84f5-4b770c5c407e",
   "metadata": {},
   "outputs": [],
   "source": [
    "k = f()"
   ]
  },
  {
   "cell_type": "code",
   "execution_count": 89,
   "id": "9f920a65-cc08-4e06-9e84-2f63abad6b73",
   "metadata": {},
   "outputs": [
    {
     "data": {
      "text/plain": [
       "10"
      ]
     },
     "execution_count": 89,
     "metadata": {},
     "output_type": "execute_result"
    }
   ],
   "source": [
    "k.__next__()\n",
    "k.send(1)"
   ]
  },
  {
   "cell_type": "code",
   "execution_count": 90,
   "id": "076b0f24-5a19-4829-9143-198d9dceb34e",
   "metadata": {},
   "outputs": [],
   "source": [
    "async def test(a, b):\n",
    "    print(1, 2)"
   ]
  },
  {
   "cell_type": "code",
   "execution_count": 96,
   "id": "501a3292-818c-446f-a0a4-2a07b930a2b3",
   "metadata": {},
   "outputs": [],
   "source": [
    "\n",
    "b = test(1,2)"
   ]
  },
  {
   "cell_type": "code",
   "execution_count": 97,
   "id": "1fa6a91d-b138-4304-b1d8-6ad86ea3449d",
   "metadata": {},
   "outputs": [
    {
     "name": "stdout",
     "output_type": "stream",
     "text": [
      "1 2\n"
     ]
    }
   ],
   "source": [
    "await b"
   ]
  },
  {
   "cell_type": "code",
   "execution_count": 99,
   "id": "6057bfbc-73e4-4955-8495-5eb81f424b9f",
   "metadata": {},
   "outputs": [],
   "source": [
    "import asyncio"
   ]
  },
  {
   "cell_type": "code",
   "execution_count": 101,
   "id": "4c54f477-b6c6-46ba-8737-7a0525c15205",
   "metadata": {},
   "outputs": [
    {
     "data": {
      "text/plain": [
       "<Task pending name='Task-7' coro=<test() running at /tmp/ipykernel_1872/3443865552.py:1>>"
      ]
     },
     "execution_count": 101,
     "metadata": {},
     "output_type": "execute_result"
    },
    {
     "name": "stdout",
     "output_type": "stream",
     "text": [
      "1 2\n"
     ]
    }
   ],
   "source": [
    "asyncio.create_task(test(1,2))"
   ]
  },
  {
   "cell_type": "code",
   "execution_count": 1,
   "id": "17c65d0e-b7eb-48e7-b69a-908c59a0140a",
   "metadata": {},
   "outputs": [],
   "source": [
    "import difflib"
   ]
  },
  {
   "cell_type": "code",
   "execution_count": 3,
   "id": "6d968cfe-721d-4863-8ac4-a632c1592546",
   "metadata": {},
   "outputs": [],
   "source": [
    "from pathlib import Path\n",
    "f = Path(\"poetry.lock\")"
   ]
  },
  {
   "cell_type": "code",
   "execution_count": 12,
   "id": "e7770a9a-975f-4085-a06f-004f93732232",
   "metadata": {},
   "outputs": [
    {
     "data": {
      "text/plain": [
       "[]"
      ]
     },
     "execution_count": 12,
     "metadata": {},
     "output_type": "execute_result"
    }
   ],
   "source": [
    "[i for i in difflib.context_diff(f.read_text(), f.read_text())]"
   ]
  },
  {
   "cell_type": "code",
   "execution_count": 13,
   "id": "0c705c64-de74-48db-9174-41bb1876d384",
   "metadata": {},
   "outputs": [],
   "source": [
    "from pathlib import Path"
   ]
  },
  {
   "cell_type": "code",
   "execution_count": 15,
   "id": "220275ae-fe6d-4eab-ae1e-f6b2d3b71833",
   "metadata": {},
   "outputs": [],
   "source": [
    "f1 = Path(\"/mnt/d/OneDrive\")"
   ]
  },
  {
   "cell_type": "code",
   "execution_count": 18,
   "id": "128154ea-48b1-4b47-b2ed-b8432979cf3d",
   "metadata": {},
   "outputs": [],
   "source": [
    "cloud = (f1 / \"Config\" / \"linux\" / \"dotfiles\")"
   ]
  },
  {
   "cell_type": "code",
   "execution_count": 19,
   "id": "2b9086e3-3a40-4903-8ef0-8c5bf330806c",
   "metadata": {},
   "outputs": [],
   "source": [
    "local = Path.home() / \".zshrc\""
   ]
  },
  {
   "cell_type": "code",
   "execution_count": 27,
   "id": "fb5cf784-72cf-4f68-b9ac-638abf47590c",
   "metadata": {},
   "outputs": [
    {
     "data": {
      "text/plain": [
       "PosixPath('/home/race/.zshrc')"
      ]
     },
     "execution_count": 27,
     "metadata": {},
     "output_type": "execute_result"
    }
   ],
   "source": [
    "local"
   ]
  },
  {
   "cell_type": "code",
   "execution_count": 5,
   "id": "01d10baf-78de-4b8b-8dc4-a8f5886ab9ba",
   "metadata": {},
   "outputs": [],
   "source": [
    "from sh import md5sum"
   ]
  },
  {
   "cell_type": "code",
   "execution_count": 10,
   "id": "7418511f-413d-4727-9579-de0f5ad1df28",
   "metadata": {},
   "outputs": [
    {
     "name": "stdout",
     "output_type": "stream",
     "text": [
      "34d0f3de4998504133da4e1f4c330442  base.py\n",
      "0c38093c58e3eb4336688ca89a76f884  errors.py\n",
      "\n"
     ]
    }
   ],
   "source": [
    "print(md5sum(\"base.py\", \"errors.py\"))"
   ]
  },
  {
   "cell_type": "code",
   "execution_count": 1,
   "id": "6723a128-2fda-4df9-bdd4-8de392fea14c",
   "metadata": {},
   "outputs": [],
   "source": [
    "from pathlib import Path"
   ]
  },
  {
   "cell_type": "code",
   "execution_count": null,
   "id": "238b37e7-b186-40b3-9369-13fdbdc75809",
   "metadata": {},
   "outputs": [],
   "source": [
    "f1 = Path('/home/raceychan/.zshrc')\n",
    "f2 = Path()"
   ]
  },
  {
   "cell_type": "code",
   "execution_count": 60,
   "id": "0d727dc6-bb1f-4460-9bec-0961c2b25322",
   "metadata": {},
   "outputs": [],
   "source": [
    "class Commands(str):\n",
    "\n",
    "\n",
    "    def __add__(self, other):\n",
    "        return \" && \".join([self, other])\n"
   ]
  },
  {
   "cell_type": "code",
   "execution_count": 61,
   "id": "89e91da3-a38b-4166-8071-2d14ad77c666",
   "metadata": {},
   "outputs": [
    {
     "data": {
      "text/plain": [
       "'asdf && hub'"
      ]
     },
     "execution_count": 61,
     "metadata": {},
     "output_type": "execute_result"
    }
   ],
   "source": [
    "Commands(\"asdf\") + Commands(\"hub\")"
   ]
  },
  {
   "cell_type": "code",
   "execution_count": 45,
   "id": "c994e7ae-cdeb-4ba2-9e29-867ccc8e5e7a",
   "metadata": {},
   "outputs": [],
   "source": [
    "myTuple = (\"John\", \"Peter\", \"Vicky\")\n",
    "\n",
    "x = \"#\".join(myTuple)"
   ]
  },
  {
   "cell_type": "code",
   "execution_count": 46,
   "id": "8251266f-f8f1-490d-b233-5321f65dd2bf",
   "metadata": {},
   "outputs": [
    {
     "data": {
      "text/plain": [
       "'John && Peter && Vicky'"
      ]
     },
     "execution_count": 46,
     "metadata": {},
     "output_type": "execute_result"
    }
   ],
   "source": [
    "x"
   ]
  },
  {
   "cell_type": "code",
   "execution_count": 63,
   "id": "00ee3007-eb5a-4605-a578-6a3aa7d538bf",
   "metadata": {},
   "outputs": [],
   "source": [
    "from hashlib import md5"
   ]
  },
  {
   "cell_type": "code",
   "execution_count": 64,
   "id": "7621ac80-c5e7-40fd-823d-2fe1d1f22a8b",
   "metadata": {},
   "outputs": [
    {
     "ename": "AttributeError",
     "evalue": "'builtin_function_or_method' object has no attribute 'update'",
     "output_type": "error",
     "traceback": [
      "\u001b[0;31m---------------------------------------------------------------------------\u001b[0m",
      "\u001b[0;31mAttributeError\u001b[0m                            Traceback (most recent call last)",
      "Cell \u001b[0;32mIn[64], line 1\u001b[0m\n\u001b[0;32m----> 1\u001b[0m \u001b[43mmd5\u001b[49m\u001b[38;5;241;43m.\u001b[39;49m\u001b[43mupdate\u001b[49m\n",
      "\u001b[0;31mAttributeError\u001b[0m: 'builtin_function_or_method' object has no attribute 'update'"
     ]
    }
   ],
   "source": [
    "md5.update"
   ]
  },
  {
   "cell_type": "code",
   "execution_count": 78,
   "id": "23824218-522c-4f59-8c80-70bdf852fb6b",
   "metadata": {},
   "outputs": [],
   "source": [
    "import hashlib\n",
    "import os\n",
    "import re\n",
    "\n",
    "\n",
    "def dirhash(\n",
    "    dirname,\n",
    "    excluded_files=[],\n",
    "    ignore_hidden=False,\n",
    "    followlinks=False,\n",
    "    excluded_extensions=[],\n",
    "    include_paths=False\n",
    "):\n",
    "\n",
    "    hashvalues = []\n",
    "    for root, dirs, files in os.walk(dirname, topdown=True, followlinks=followlinks):\n",
    "        if ignore_hidden and re.search(r\"/\\.\", root):\n",
    "            continue\n",
    "\n",
    "        dirs.sort()\n",
    "        files.sort()\n",
    "\n",
    "        for fname in files:\n",
    "            if ignore_hidden and fname.startswith(\".\"):\n",
    "                continue\n",
    "\n",
    "            if fname.split(\".\")[-1:][0] in excluded_extensions:\n",
    "                continue\n",
    "\n",
    "            if fname in excluded_files:\n",
    "                continue\n",
    "\n",
    "            hashvalues.append(filehash(os.path.join(root, fname), hashlib.md5))\n",
    "\n",
    "            if include_paths:\n",
    "                hasher = hashlib.md5()\n",
    "                # get the resulting relative path into array of elements\n",
    "                path_list = os.path.relpath(os.path.join(root, fname)).split(os.sep)\n",
    "                # compute the hash on joined list, removes all os specific separators\n",
    "                hasher.update(''.join(path_list).encode('utf-8'))\n",
    "                hashvalues.append(hasher.hexdigest())\n",
    "\n",
    "    return _reduce_hash(hashvalues, hashlib.md5)\n",
    "\n",
    "\n",
    "def filehash(filepath, hashfunc):\n",
    "    hasher = hashfunc()\n",
    "    blocksize = 64 * 1024\n",
    "\n",
    "    if not os.path.exists(filepath):\n",
    "        return hasher.hexdigest()\n",
    "\n",
    "    with open(filepath, \"rb\") as fp:\n",
    "        while True:\n",
    "            data = fp.read(blocksize)\n",
    "            if not data:\n",
    "                break\n",
    "            hasher.update(data)\n",
    "    return hasher.hexdigest()\n",
    "\n",
    "\n",
    "def _reduce_hash(hashlist, hashfunc):\n",
    "    hasher = hashfunc()\n",
    "    for hashvalue in sorted(hashlist):\n",
    "        hasher.update(hashvalue.encode(\"utf-8\"))\n",
    "    return hasher.hexdigest()"
   ]
  },
  {
   "cell_type": "code",
   "execution_count": 79,
   "id": "7312d8fc-518a-4430-9113-c748c5f132d3",
   "metadata": {},
   "outputs": [
    {
     "data": {
      "text/plain": [
       "'df4691ced74b80e3a1fb31d5d5f77aa4'"
      ]
     },
     "execution_count": 79,
     "metadata": {},
     "output_type": "execute_result"
    }
   ],
   "source": [
    "from pathlib import Path\n",
    "\n",
    "dirhash(Path.cwd())"
   ]
  },
  {
   "cell_type": "code",
   "execution_count": 8,
   "id": "cbc2bd99-cff3-4fb1-852a-230737bdd60b",
   "metadata": {},
   "outputs": [],
   "source": [
    "vimrc = \"\"\"\n",
    "\" Formatting\n",
    "set wrapscan \" wrap searches around top/bottom of file\n",
    "set nowritebackup \" no tilde files\n",
    "set switchbuf=useopen \" use an already open window if possible\n",
    "set splitright \" open vsplits in a more natural spot\n",
    "set textwidth=0 \" never wrap lines\n",
    "set scrolloff=5 \" start scrolling when within 5 lines near the top/bottom\n",
    "\"\"\""
   ]
  },
  {
   "cell_type": "code",
   "execution_count": 13,
   "id": "e053c540-0e6e-43f1-afd5-8017677192c9",
   "metadata": {
    "tags": []
   },
   "outputs": [
    {
     "name": "stdout",
     "output_type": "stream",
     "text": [
      "vim.opt.wrapscan \n",
      "vim.opt.nowritebackup \n",
      "vim.opt.switchbuf=useopen \n",
      "vim.opt.splitright \n",
      "vim.opt.textwidth=0 \n",
      "vim.opt.scrolloff=5 \n"
     ]
    }
   ],
   "source": [
    "for line in vimrc.split('\\n'):\n",
    "    if not line:\n",
    "        continue\n",
    "    cf = line.split('\"')[0]\n",
    "    if not cf:\n",
    "        continue\n",
    "    if cf.startswith(\"set \"):\n",
    "        cf = cf.replace(\"set \", \"vim.opt.\")\n",
    "    elif cf.startswith(\"let g:\"):\n",
    "        if \"#\" in cf:\n",
    "            ...  # if it contains special character\n",
    "            # let g:deoplete#enable_at_startup = 1\n",
    "            # vim.g['deoplete#enable_at_startup'] = 1\n",
    "        cf = cf.replace(\"let g:\", \"vim.g.\")\n",
    "    print(cf)"
   ]
  },
  {
   "cell_type": "code",
   "execution_count": 58,
   "id": "5f6abf7a-1617-4ee5-82ab-0be3ce702b6b",
   "metadata": {},
   "outputs": [],
   "source": [
    "def extract_mapping_info(\n",
    "    mapping_string,\n",
    "):\n",
    "    pattern = r\"([inv])?(nore)?map\\s+([\\S]+)\\s+([\\S]+)\"\n",
    "    match = re.match(pattern, mapping_string)\n",
    "    if match:\n",
    "        mode = match.group(1)\n",
    "        is_recursive = not bool(match.group(2))\n",
    "        map_from = match.group(3)\n",
    "        map_to = match.group(4)\n",
    "        return mode, is_recursive, map_from, map_to\n",
    "    else:\n",
    "        return None, None, None, None"
   ]
  },
  {
   "cell_type": "code",
   "execution_count": 61,
   "id": "6071b75d-8d02-48bb-9675-59f9eacc59bf",
   "metadata": {},
   "outputs": [
    {
     "data": {
      "text/plain": [
       "(None, True, '<Space>', '<Leader>')"
      ]
     },
     "execution_count": 61,
     "metadata": {},
     "output_type": "execute_result"
    }
   ],
   "source": [
    "kmp = \"map <Space> <Leader>\"\n",
    "extract_mapping_info(kmp)"
   ]
  },
  {
   "cell_type": "code",
   "execution_count": 2,
   "id": "9bd1486d-cd4f-4b85-a86b-6a87ba034a76",
   "metadata": {},
   "outputs": [
    {
     "ename": "ImportError",
     "evalue": "attempted relative import with no known parent package",
     "output_type": "error",
     "traceback": [
      "\u001b[0;31m---------------------------------------------------------------------------\u001b[0m",
      "\u001b[0;31mImportError\u001b[0m                               Traceback (most recent call last)",
      "Cell \u001b[0;32mIn[2], line 1\u001b[0m\n\u001b[0;32m----> 1\u001b[0m \u001b[38;5;28;01mfrom\u001b[39;00m \u001b[38;5;21;01m.\u001b[39;00m\u001b[38;5;21;01mpackages\u001b[39;00m\u001b[38;5;21;01m.\u001b[39;00m\u001b[38;5;21;01mneovim\u001b[39;00m \u001b[38;5;28;01mimport\u001b[39;00m vimrc_to_lua\n",
      "\u001b[0;31mImportError\u001b[0m: attempted relative import with no known parent package"
     ]
    }
   ],
   "source": [
    "from .packages.neovim import vimrc_to_lua"
   ]
  },
  {
   "cell_type": "code",
   "execution_count": null,
   "id": "01a201d9-e6e2-4455-834b-1601ad3d110f",
   "metadata": {},
   "outputs": [],
   "source": []
  }
 ],
 "metadata": {
  "kernelspec": {
   "display_name": "Python 3 (ipykernel)",
   "language": "python",
   "name": "python3"
  },
  "language_info": {
   "codemirror_mode": {
    "name": "ipython",
    "version": 3
   },
   "file_extension": ".py",
   "mimetype": "text/x-python",
   "name": "python",
   "nbconvert_exporter": "python",
   "pygments_lexer": "ipython3",
   "version": "3.11.0"
  }
 },
 "nbformat": 4,
 "nbformat_minor": 5
}
